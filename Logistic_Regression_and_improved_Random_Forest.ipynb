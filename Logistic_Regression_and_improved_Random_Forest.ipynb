{
 "cells": [
  {
   "cell_type": "code",
   "execution_count": 30,
   "id": "8f404288",
   "metadata": {},
   "outputs": [],
   "source": [
    "# Importing necessary libraries\n",
    "import pandas as pd\n",
    "from sklearn.model_selection import train_test_split, GridSearchCV, RandomizedSearchCV\n",
    "from sklearn.ensemble import RandomForestClassifier\n",
    "from sklearn.metrics import accuracy_score, classification_report, confusion_matrix\n",
    "from sklearn.preprocessing import LabelEncoder\n",
    "from imblearn.over_sampling import SMOTE\n",
    "from sklearn.metrics import accuracy_score, classification_report\n",
    "from sklearn.naive_bayes import GaussianNB\n",
    "from sklearn.linear_model import LogisticRegression\n",
    "from sklearn.tree import DecisionTreeClassifier\n",
    "from sklearn.ensemble import RandomForestClassifier\n",
    "from sklearn.neighbors import KNeighborsClassifier\n",
    "import matplotlib.pyplot as plt\n",
    "import seaborn as sns"
   ]
  },
  {
   "cell_type": "code",
   "execution_count": 11,
   "id": "b0cbcf12",
   "metadata": {},
   "outputs": [],
   "source": [
    "# Loading the dataset\n",
    "data = pd.read_csv(\"data/heart_attack_prediction_dataset.csv\")\n",
    "#data"
   ]
  },
  {
   "cell_type": "code",
   "execution_count": 12,
   "id": "0816ce3f",
   "metadata": {},
   "outputs": [
    {
     "name": "stdout",
     "output_type": "stream",
     "text": [
      "Total number of duplicate rows: 0\n",
      "Total Missing Values          : 0\n"
     ]
    }
   ],
   "source": [
    "print(f\"Total number of duplicate rows: {data.duplicated().sum()}\")\n",
    "print(f\"Total Missing Values          : {data.isnull().sum().sum()}\")"
   ]
  },
  {
   "cell_type": "code",
   "execution_count": 13,
   "id": "4a08ae54",
   "metadata": {},
   "outputs": [],
   "source": [
    "data[[\"Blood_Sistolik_Pressure\", \"Blood_Diyastolik_Pressure\"]] = data[\"Blood Pressure\"].str.split(\"/\", expand=True).astype(int)\n",
    "data.drop(\"Blood Pressure\", axis=1, inplace=True)\n",
    "#data.info()"
   ]
  },
  {
   "cell_type": "code",
   "execution_count": 14,
   "id": "5220168d",
   "metadata": {},
   "outputs": [
    {
     "data": {
      "text/plain": [
       "Patient ID                          object\n",
       "Age                                  int64\n",
       "Cholesterol                          int64\n",
       "Heart Rate                           int64\n",
       "Diabetes                             int64\n",
       "Family History                       int64\n",
       "Smoking                              int64\n",
       "Obesity                              int64\n",
       "Alcohol Consumption                  int64\n",
       "Exercise Hours Per Week            float64\n",
       "Diet                                 int32\n",
       "Previous Heart Problems              int64\n",
       "Medication Use                       int64\n",
       "Stress Level                         int64\n",
       "Sedentary Hours Per Day            float64\n",
       "Income                               int64\n",
       "BMI                                float64\n",
       "Triglycerides                        int64\n",
       "Physical Activity Days Per Week      int64\n",
       "Sleep Hours Per Day                  int64\n",
       "Heart Attack Risk                    int64\n",
       "Blood_Sistolik_Pressure              int64\n",
       "Blood_Diyastolik_Pressure            int64\n",
       "Sex_Female                           int32\n",
       "Sex_Male                             int32\n",
       "Country_Argentina                    int32\n",
       "Country_Australia                    int32\n",
       "Country_Brazil                       int32\n",
       "Country_Canada                       int32\n",
       "Country_China                        int32\n",
       "Country_Colombia                     int32\n",
       "Country_France                       int32\n",
       "Country_Germany                      int32\n",
       "Country_India                        int32\n",
       "Country_Italy                        int32\n",
       "Country_Japan                        int32\n",
       "Country_New Zealand                  int32\n",
       "Country_Nigeria                      int32\n",
       "Country_South Africa                 int32\n",
       "Country_South Korea                  int32\n",
       "Country_Spain                        int32\n",
       "Country_Thailand                     int32\n",
       "Country_United Kingdom               int32\n",
       "Country_United States                int32\n",
       "Country_Vietnam                      int32\n",
       "Continent_Africa                     int32\n",
       "Continent_Asia                       int32\n",
       "Continent_Australia                  int32\n",
       "Continent_Europe                     int32\n",
       "Continent_North America              int32\n",
       "Continent_South America              int32\n",
       "Hemisphere_Northern Hemisphere       int32\n",
       "Hemisphere_Southern Hemisphere       int32\n",
       "dtype: object"
      ]
     },
     "execution_count": 14,
     "metadata": {},
     "output_type": "execute_result"
    }
   ],
   "source": [
    "ordinal_mapping = {\"Unhealthy\" : 0, \"Average\": 1, \"Healthy\": 2}\n",
    "data[\"Diet\"] = data[\"Diet\"].map(ordinal_mapping)\n",
    "data[\"Diet\"] = data[\"Diet\"].astype(\"int32\")\n",
    "cols_to_encode = [\"Sex\", \"Country\", \"Continent\", \"Hemisphere\"]\n",
    "data = pd.get_dummies(data, columns = cols_to_encode)\n",
    "bool_cols = data.select_dtypes(\"uint8\").columns\n",
    "data[bool_cols] = data[bool_cols].astype(\"int32\")\n",
    "data.dtypes"
   ]
  },
  {
   "cell_type": "code",
   "execution_count": 15,
   "id": "910875b6",
   "metadata": {},
   "outputs": [
    {
     "data": {
      "text/plain": [
       "0       0\n",
       "1       0\n",
       "2       0\n",
       "3       0\n",
       "4       0\n",
       "       ..\n",
       "8758    0\n",
       "8759    0\n",
       "8760    1\n",
       "8761    0\n",
       "8762    1\n",
       "Name: Heart Attack Risk, Length: 8763, dtype: int64"
      ]
     },
     "execution_count": 15,
     "metadata": {},
     "output_type": "execute_result"
    }
   ],
   "source": [
    "# # Splitting features and target variable\n",
    "data.drop(\"Patient ID\", axis=1, inplace=True)\n",
    "y = data[\"Heart Attack Risk\"]\n",
    "X = data.drop(\"Heart Attack Risk\", axis = 1)\n",
    "y"
   ]
  },
  {
   "cell_type": "code",
   "execution_count": 16,
   "id": "63c60824",
   "metadata": {},
   "outputs": [],
   "source": [
    "# Splitting the dataset into the training set and test set\n",
    "X_train, X_test, y_train, y_test = train_test_split(data, y, test_size = 0.2, random_state = 42)"
   ]
  },
  {
   "cell_type": "code",
   "execution_count": 17,
   "id": "a9522af2",
   "metadata": {},
   "outputs": [
    {
     "data": {
      "text/plain": [
       "Age                                 True\n",
       "Cholesterol                         True\n",
       "Heart Rate                          True\n",
       "Diabetes                           False\n",
       "Family History                     False\n",
       "Smoking                            False\n",
       "Obesity                            False\n",
       "Alcohol Consumption                False\n",
       "Exercise Hours Per Week             True\n",
       "Diet                               False\n",
       "Previous Heart Problems            False\n",
       "Medication Use                     False\n",
       "Stress Level                       False\n",
       "Sedentary Hours Per Day             True\n",
       "Income                              True\n",
       "BMI                                 True\n",
       "Triglycerides                       True\n",
       "Physical Activity Days Per Week    False\n",
       "Sleep Hours Per Day                False\n",
       "Heart Attack Risk                  False\n",
       "Blood_Sistolik_Pressure             True\n",
       "Blood_Diyastolik_Pressure           True\n",
       "Sex_Female                         False\n",
       "Sex_Male                           False\n",
       "Country_Argentina                  False\n",
       "Country_Australia                  False\n",
       "Country_Brazil                     False\n",
       "Country_Canada                     False\n",
       "Country_China                      False\n",
       "Country_Colombia                   False\n",
       "Country_France                     False\n",
       "Country_Germany                    False\n",
       "Country_India                      False\n",
       "Country_Italy                      False\n",
       "Country_Japan                      False\n",
       "Country_New Zealand                False\n",
       "Country_Nigeria                    False\n",
       "Country_South Africa               False\n",
       "Country_South Korea                False\n",
       "Country_Spain                      False\n",
       "Country_Thailand                   False\n",
       "Country_United Kingdom             False\n",
       "Country_United States              False\n",
       "Country_Vietnam                    False\n",
       "Continent_Africa                   False\n",
       "Continent_Asia                     False\n",
       "Continent_Australia                False\n",
       "Continent_Europe                   False\n",
       "Continent_North America            False\n",
       "Continent_South America            False\n",
       "Hemisphere_Northern Hemisphere     False\n",
       "Hemisphere_Southern Hemisphere     False\n",
       "dtype: bool"
      ]
     },
     "execution_count": 17,
     "metadata": {},
     "output_type": "execute_result"
    }
   ],
   "source": [
    "nunique_cols = data.nunique() > 10\n",
    "nunique_cols"
   ]
  },
  {
   "cell_type": "code",
   "execution_count": 18,
   "id": "86ffd795",
   "metadata": {},
   "outputs": [
    {
     "data": {
      "text/plain": [
       "Index(['Age', 'Cholesterol', 'Heart Rate', 'Exercise Hours Per Week',\n",
       "       'Sedentary Hours Per Day', 'Income', 'BMI', 'Triglycerides',\n",
       "       'Blood_Sistolik_Pressure', 'Blood_Diyastolik_Pressure'],\n",
       "      dtype='object')"
      ]
     },
     "execution_count": 18,
     "metadata": {},
     "output_type": "execute_result"
    }
   ],
   "source": [
    "cols_to_transform = data.loc[:, nunique_cols].columns\n",
    "cols_to_transform"
   ]
  },
  {
   "cell_type": "code",
   "execution_count": 19,
   "id": "6ab06224",
   "metadata": {},
   "outputs": [
    {
     "data": {
      "text/plain": [
       "0    0.641789\n",
       "1    0.358211\n",
       "Name: Heart Attack Risk, dtype: float64"
      ]
     },
     "execution_count": 19,
     "metadata": {},
     "output_type": "execute_result"
    }
   ],
   "source": [
    "y.value_counts(normalize=True)"
   ]
  },
  {
   "cell_type": "code",
   "execution_count": 20,
   "id": "b43a78b9",
   "metadata": {},
   "outputs": [
    {
     "data": {
      "image/png": "[encoded data removed]",
      "text/plain": [
       "<Figure size 640x480 with 1 Axes>"
      ]
     },
     "metadata": {},
     "output_type": "display_data"
    }
   ],
   "source": [
    "from imblearn.over_sampling import SMOTE\n",
    "# SMOTE = Synthetic Minority Over Sampling Technique\n",
    "\n",
    "smote = SMOTE()\n",
    "x_smote, y_smote = smote.fit_resample(X , y)\n",
    "\n",
    "# Visualizing distribution of y_smote\n",
    "\n",
    "counts = y_smote.value_counts(normalize=True)\n",
    "plt.pie(counts, labels = [\"Risk\", \"No Risk\"], autopct = \"%1.1f%%\")\n",
    "plt.show()"
   ]
  },
  {
   "cell_type": "code",
   "execution_count": 21,
   "id": "467007cd",
   "metadata": {},
   "outputs": [],
   "source": [
    "X_train, X_test, y_train, y_test = train_test_split(x_smote, y_smote, test_size = 0.2)"
   ]
  },
  {
   "cell_type": "code",
   "execution_count": 22,
   "id": "3764082a",
   "metadata": {},
   "outputs": [],
   "source": [
    "from sklearn.preprocessing import RobustScaler\n",
    "\n",
    "scaler = RobustScaler()\n",
    "\n",
    "scaler.fit(X_train[cols_to_transform])\n",
    "\n",
    "X_train[cols_to_transform] = scaler.transform(X_train[cols_to_transform])\n",
    "X_test[cols_to_transform] = scaler.transform(X_test[cols_to_transform])"
   ]
  },
  {
   "cell_type": "code",
   "execution_count": 24,
   "id": "f0d07314",
   "metadata": {},
   "outputs": [
    {
     "name": "stdout",
     "output_type": "stream",
     "text": [
      "72.08888888888889\n"
     ]
    }
   ],
   "source": [
    "LR = LogisticRegression(max_iter=10000)\n",
    "\n",
    "LR.fit(X_train, y_train)\n",
    "LR_score = LR.score(X_test, y_test)\n",
    "print(LR_score * 100)"
   ]
  },
  {
   "cell_type": "code",
   "execution_count": 27,
   "id": "3cdfcf64",
   "metadata": {},
   "outputs": [
    {
     "name": "stdout",
     "output_type": "stream",
     "text": [
      "70.62222222222222\n"
     ]
    }
   ],
   "source": [
    "RFC = RandomForestClassifier()\n",
    "\n",
    "RFC.fit(X_train, y_train)\n",
    "RFC_score = RFC.score(X_test, y_test)\n",
    "print(RFC_score * 100)"
   ]
  },
  {
   "cell_type": "code",
   "execution_count": 34,
   "id": "0aa4a4c7",
   "metadata": {},
   "outputs": [],
   "source": [
    "LR_predictions = LR.predict(X_test)\n",
    "RFC_predictions = RFC.predict(X_test)"
   ]
  },
  {
   "cell_type": "code",
   "execution_count": 37,
   "id": "acf0fdbd",
   "metadata": {},
   "outputs": [
    {
     "name": "stdout",
     "output_type": "stream",
     "text": [
      "Logistic Regression Accuracy 72.08888888888889\n",
      "Random Forest Accuracy 70.62222222222222\n"
     ]
    }
   ],
   "source": [
    "print(f\"Logistic Regression Accuracy {accuracy_score(y_test, LR_predictions) * 100}\")\n",
    "print(f\"Random Forest Accuracy {accuracy_score(y_test, RFC_predictions) * 100}\")"
   ]
  },
  {
   "cell_type": "code",
   "execution_count": 38,
   "id": "553ab095",
   "metadata": {},
   "outputs": [
    {
     "name": "stdout",
     "output_type": "stream",
     "text": [
      "Logistic Regression Classification Report\n",
      "              precision    recall  f1-score   support\n",
      "\n",
      "           0       0.64      1.00      0.78      1140\n",
      "           1       1.00      0.44      0.61      1110\n",
      "\n",
      "    accuracy                           0.72      2250\n",
      "   macro avg       0.82      0.72      0.69      2250\n",
      "weighted avg       0.82      0.72      0.70      2250\n",
      "\n",
      "Random Forest Accuracy Classification Report\n",
      "              precision    recall  f1-score   support\n",
      "\n",
      "           0       0.65      0.89      0.75      1140\n",
      "           1       0.82      0.52      0.63      1110\n",
      "\n",
      "    accuracy                           0.71      2250\n",
      "   macro avg       0.74      0.70      0.69      2250\n",
      "weighted avg       0.74      0.71      0.70      2250\n",
      "\n"
     ]
    }
   ],
   "source": [
    "print(f\"Logistic Regression Classification Report\")\n",
    "print(classification_report(y_test, LR_predictions))\n",
    "print(f\"Random Forest Accuracy Classification Report\")\n",
    "print(classification_report(y_test, RFC_predictions))"
   ]
  },
  {
   "cell_type": "code",
   "execution_count": 41,
   "id": "d8d1e5ca",
   "metadata": {},
   "outputs": [
    {
     "name": "stdout",
     "output_type": "stream",
     "text": [
      "Confusion matrix for Logistic Regression\n",
      "[[1139    1]\n",
      " [ 627  483]]\n"
     ]
    },
    {
     "data": {
      "image/png": "[encoded data removed]",
      "text/plain": [
       "<Figure size 800x600 with 1 Axes>"
      ]
     },
     "metadata": {},
     "output_type": "display_data"
    }
   ],
   "source": [
    "# Confusion matrix\n",
    "conf_matrix_LR = confusion_matrix(y_test, LR_predictions)\n",
    "\n",
    "print(\"Confusion matrix for Logistic Regression\")\n",
    "print(conf_matrix_LR)\n",
    "\n",
    "# Plot confusion matrix\n",
    "plt.figure(figsize=(8, 6))\n",
    "sns.heatmap(conf_matrix, annot=True, fmt=\"d\", cmap=\"Blues\", cbar=False)\n",
    "plt.xlabel(\"Predicted labels\")\n",
    "plt.ylabel(\"True labels\")\n",
    "plt.title(\"Confusion Matrix\")\n",
    "plt.show()"
   ]
  },
  {
   "cell_type": "code",
   "execution_count": 42,
   "id": "bca99e02",
   "metadata": {},
   "outputs": [
    {
     "name": "stdout",
     "output_type": "stream",
     "text": [
      "Confusion matrix for Random Forest\n",
      "[[1015  125]\n",
      " [ 536  574]]\n"
     ]
    },
    {
     "data": {
      "image/png": "[encoded data removed]",
      "text/plain": [
       "<Figure size 800x600 with 1 Axes>"
      ]
     },
     "metadata": {},
     "output_type": "display_data"
    }
   ],
   "source": [
    "# Confusion matrix\n",
    "conf_matrix = confusion_matrix(y_test, RFC_predictions)\n",
    "\n",
    "print(\"Confusion matrix for Random Forest\")\n",
    "print(conf_matrix)\n",
    "\n",
    "# Plot confusion matrix\n",
    "plt.figure(figsize=(8, 6))\n",
    "sns.heatmap(conf_matrix, annot=True, fmt=\"d\", cmap=\"Blues\", cbar=False)\n",
    "plt.xlabel(\"Predicted labels\")\n",
    "plt.ylabel(\"True labels\")\n",
    "plt.title(\"Confusion Matrix\")\n",
    "plt.show()"
   ]
  },
  {
   "cell_type": "code",
   "execution_count": 43,
   "id": "1536ef5c",
   "metadata": {},
   "outputs": [
    {
     "data": {
      "image/png": "[encoded data removed]",
      "text/plain": [
       "<Figure size 800x400 with 1 Axes>"
      ]
     },
     "metadata": {},
     "output_type": "display_data"
    }
   ],
   "source": [
    "models = [\"DecisionTree\", \"KNN\", \"NaiveBayes\", \"SupportVectorMachine\", \"RandomForest\", \"LogisticRegression\"]\n",
    "accuracy_list = [64.06160867084997, 63.43411294922989, 64.17569880205363, 64.17569880205363, 70.62222222222222, 72.08888888888889]\n",
    "plt.figure(figsize=(8,4))\n",
    "sns.barplot(x=accuracy_list, y=models, color=\"#008b8b\")\n",
    "plt.xticks(rotation=45)\n",
    "plt.axvline(x=0.64168886, lw=0.7, color=\"r\", ls=\"--\")\n",
    "plt.title(\"Comparison of Accuracy Scores of Models\", fontsize=16)\n",
    "plt.show()"
   ]
  },
  {
   "cell_type": "code",
   "execution_count": null,
   "id": "5cbfb2d8",
   "metadata": {},
   "outputs": [],
   "source": []
  }
 ],
 "metadata": {
  "kernelspec": {
   "display_name": "Python 3 (ipykernel)",
   "language": "python",
   "name": "python3"
  },
  "language_info": {
   "codemirror_mode": {
    "name": "ipython",
    "version": 3
   },
   "file_extension": ".py",
   "mimetype": "text/x-python",
   "name": "python",
   "nbconvert_exporter": "python",
   "pygments_lexer": "ipython3",
   "version": "3.11.4"
  }
 },
 "nbformat": 4,
 "nbformat_minor": 5
}
